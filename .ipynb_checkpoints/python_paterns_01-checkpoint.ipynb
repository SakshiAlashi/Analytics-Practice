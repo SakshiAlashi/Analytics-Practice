{
 "cells": [
  {
   "cell_type": "code",
   "execution_count": null,
   "id": "0",
   "metadata": {},
   "outputs": [],
   "source": [
    "n = int(input('Enter a 5 digit number:'))\n",
    "rem =0\n",
    "summ=0\n",
    "\n",
    "while n!=0:\n",
    "    rem = n % 10 \n",
    "    n = n // 10\n",
    "    summ+=rem\n",
    "summ"
   ]
  },
  {
   "cell_type": "code",
   "execution_count": null,
   "id": "1",
   "metadata": {},
   "outputs": [],
   "source": [
    "n = int(input(\"Enter the number\"))\n",
    "for i in range(1,n+1):\n",
    "    print(\"*\" * i)"
   ]
  },
  {
   "cell_type": "code",
   "execution_count": null,
   "id": "2",
   "metadata": {},
   "outputs": [],
   "source": [
    "n = int(input(\"Enter a number:\"))\n",
    "count=0\n",
    "while n!=0:\n",
    "    n=n//10\n",
    "    count+=1\n",
    "count"
   ]
  },
  {
   "cell_type": "code",
   "execution_count": null,
   "id": "3",
   "metadata": {},
   "outputs": [],
   "source": [
    "n = int(input(\"Enter a number:\"))\n",
    "for i in range(n):\n",
    "    for j in range(n):\n",
    "        print('* ',end=' ')\n",
    "    print()\n",
    "            "
   ]
  },
  {
   "cell_type": "code",
   "execution_count": null,
   "id": "4",
   "metadata": {},
   "outputs": [],
   "source": [
    "n = int(input(\"Enter a number:\"))\n",
    "for i in range(n+1):\n",
    "    for j in range(i):\n",
    "        print('* ', end=' ')\n",
    "    print()\n",
    "        "
   ]
  },
  {
   "cell_type": "code",
   "execution_count": null,
   "id": "5",
   "metadata": {},
   "outputs": [],
   "source": [
    "n = int(input(\"Enter a number:\"))\n",
    "for i in range(1,n+1):\n",
    "    for j in range(1,i+1):\n",
    "        print(j,end=' ')\n",
    "    print()"
   ]
  },
  {
   "cell_type": "code",
   "execution_count": null,
   "id": "6",
   "metadata": {},
   "outputs": [],
   "source": [
    "n = int(input(\"Enter a number:\"))\n",
    "for i in range(1,n+1):\n",
    "    for j in range(1,n-1):\n",
    "        print(\" \",end=\" \")\n",
    "    for k in range(n-i):\n",
    "        print(\" * \",end=\" \")\n",
    "    print()"
   ]
  },
  {
   "cell_type": "code",
   "execution_count": null,
   "id": "7",
   "metadata": {},
   "outputs": [],
   "source": [
    "print(\"This is the updated file to check if the updates are done in the git\")"
   ]
  },
  {
   "cell_type": "code",
   "execution_count": null,
   "id": "8",
   "metadata": {},
   "outputs": [],
   "source": []
  }
 ],
 "metadata": {
  "kernelspec": {
   "display_name": "Python 3 (ipykernel)",
   "language": "python",
   "name": "python3"
  },
  "language_info": {
   "codemirror_mode": {
    "name": "ipython",
    "version": 3
   },
   "file_extension": ".py",
   "mimetype": "text/x-python",
   "name": "python",
   "nbconvert_exporter": "python",
   "pygments_lexer": "ipython3",
   "version": "3.13.5"
  }
 },
 "nbformat": 4,
 "nbformat_minor": 5
}
