{
 "cells": [
  {
   "cell_type": "code",
   "execution_count": null,
   "id": "d6491db2-eef4-4fd6-99bf-83224222965d",
   "metadata": {},
   "outputs": [],
   "source": [
    "n = int(input('Enter a 5 digit number:'))\n",
    "rem =0\n",
    "summ=0\n",
    "\n",
    "while n!=0:\n",
    "    rem = n % 10 \n",
    "    n = n // 10\n",
    "    summ+=rem\n",
    "summ"
   ]
  },
  {
   "cell_type": "code",
   "execution_count": null,
   "id": "e8a5c226-6831-4891-99b6-efd4aafe840b",
   "metadata": {},
   "outputs": [],
   "source": [
    "n = int(input(\"Enter the number\"))\n",
    "for i in range(1,n+1):\n",
    "    print(\"*\" * i)"
   ]
  },
  {
   "cell_type": "code",
   "execution_count": null,
   "id": "85fe0e06-54fb-4ea2-912a-398170ceb0a6",
   "metadata": {},
   "outputs": [],
   "source": [
    "n = int(input(\"Enter a number:\"))\n",
    "count=0\n",
    "while n!=0:\n",
    "    n=n//10\n",
    "    count+=1\n",
    "count"
   ]
  },
  {
   "cell_type": "code",
   "execution_count": null,
   "id": "cfb57f5d-59af-4901-9c7c-43f6a702a054",
   "metadata": {},
   "outputs": [],
   "source": [
    "n = int(input(\"Enter a number:\"))\n",
    "for i in range(n):\n",
    "    for j in range(n):\n",
    "        print('* ',end=' ')\n",
    "    print()\n",
    "            "
   ]
  },
  {
   "cell_type": "code",
   "execution_count": null,
   "id": "a568dc8b-3469-45f1-853c-2e5f0497db62",
   "metadata": {},
   "outputs": [],
   "source": [
    "n = int(input(\"Enter a number:\"))\n",
    "for i in range(n+1):\n",
    "    for j in range(i):\n",
    "        print('* ', end=' ')\n",
    "    print()\n",
    "        "
   ]
  },
  {
   "cell_type": "code",
   "execution_count": null,
   "id": "fe67130d-8eb4-4e4b-b1d6-51ae9dc2ef18",
   "metadata": {},
   "outputs": [],
   "source": [
    "n = int(input(\"Enter a number:\"))\n",
    "for i in range(1,n+1):\n",
    "    for j in range(1,i+1):\n",
    "        print(j,end=' ')\n",
    "    print()"
   ]
  },
  {
   "cell_type": "code",
   "execution_count": null,
   "id": "a6fbb7d1-4c50-43d4-8fc9-a12ea42e6ddd",
   "metadata": {},
   "outputs": [],
   "source": [
    "n = int(input(\"Enter a number:\"))\n",
    "for i in range(1,n+1):\n",
    "    for j in range(1,n-):\n",
    "        print(\" \",end=\" \")\n",
    "    for k in range(n-i):\n",
    "        print(\" * \",end=\" \")\n",
    "    print()"
   ]
  },
  {
   "cell_type": "code",
   "execution_count": null,
   "id": "3bf5da8d-2052-4bc7-9fee-8c725f3c0d91",
   "metadata": {},
   "outputs": [],
   "source": []
  }
 ],
 "metadata": {
  "kernelspec": {
   "display_name": "Python 3 (ipykernel)",
   "language": "python",
   "name": "python3"
  },
  "language_info": {
   "codemirror_mode": {
    "name": "ipython",
    "version": 3
   },
   "file_extension": ".py",
   "mimetype": "text/x-python",
   "name": "python",
   "nbconvert_exporter": "python",
   "pygments_lexer": "ipython3",
   "version": "3.13.5"
  }
 },
 "nbformat": 4,
 "nbformat_minor": 5
}
